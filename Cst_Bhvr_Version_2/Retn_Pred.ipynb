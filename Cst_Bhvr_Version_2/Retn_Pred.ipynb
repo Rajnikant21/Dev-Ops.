{
 "cells": [
  {
   "cell_type": "code",
   "execution_count": 1,
   "id": "3841f8dd-fd0e-4b14-b171-6c38d80aa02b",
   "metadata": {
    "tags": []
   },
   "outputs": [],
   "source": [
    "#importing libraries\n",
    "import pandas as pd\n",
    "import numpy as np\n",
    "import matplotlib.pyplot as plt\n",
    "from datetime import date\n",
    "import os\n",
    "#importing library\n",
    "from sklearn.linear_model import LogisticRegression\n",
    "\n",
    "# Import label encoder\n",
    "#For converting object dtypes to int\n",
    "\n",
    "from sklearn import preprocessing\n",
    "# label_encoder object knows how to understand word labels.\n",
    "label_encoder = preprocessing.LabelEncoder()"
   ]
  },
  {
   "cell_type": "code",
   "execution_count": 2,
   "id": "a9324eca-cd1b-48e5-966b-2906304abadc",
   "metadata": {
    "tags": []
   },
   "outputs": [],
   "source": [
    "# Reading the Data\n",
    "Bdata = pd.read_csv(\"Bank Churners.csv\")"
   ]
  },
  {
   "cell_type": "code",
   "execution_count": 3,
   "id": "19e6130d-5a70-4ec6-9e25-e152003536e0",
   "metadata": {
    "tags": []
   },
   "outputs": [
    {
     "data": {
      "text/html": [
       "<div>\n",
       "<style scoped>\n",
       "    .dataframe tbody tr th:only-of-type {\n",
       "        vertical-align: middle;\n",
       "    }\n",
       "\n",
       "    .dataframe tbody tr th {\n",
       "        vertical-align: top;\n",
       "    }\n",
       "\n",
       "    .dataframe thead th {\n",
       "        text-align: right;\n",
       "    }\n",
       "</style>\n",
       "<table border=\"1\" class=\"dataframe\">\n",
       "  <thead>\n",
       "    <tr style=\"text-align: right;\">\n",
       "      <th></th>\n",
       "      <th>CLIENTNUM</th>\n",
       "      <th>Attrition_Flag</th>\n",
       "      <th>Customer_Age</th>\n",
       "      <th>Gender</th>\n",
       "      <th>Dependent_count</th>\n",
       "      <th>Education_Level</th>\n",
       "      <th>Marital_Status</th>\n",
       "      <th>Income_Category</th>\n",
       "      <th>Card_Category</th>\n",
       "      <th>Months_on_book</th>\n",
       "      <th>...</th>\n",
       "      <th>Credit_Limit</th>\n",
       "      <th>Total_Revolving_Bal</th>\n",
       "      <th>Avg_Open_To_Buy</th>\n",
       "      <th>Total_Amt_Chng_Q4_Q1</th>\n",
       "      <th>Total_Trans_Amt</th>\n",
       "      <th>Total_Trans_Ct</th>\n",
       "      <th>Total_Ct_Chng_Q4_Q1</th>\n",
       "      <th>Avg_Utilization_Ratio</th>\n",
       "      <th>Naive_Bayes_Classifier_Attrition_Flag_Card_Category_Contacts_Count_12_mon_Dependent_count_Education_Level_Months_Inactive_12_mon_1</th>\n",
       "      <th>Naive_Bayes_Classifier_Attrition_Flag_Card_Category_Contacts_Count_12_mon_Dependent_count_Education_Level_Months_Inactive_12_mon_2</th>\n",
       "    </tr>\n",
       "  </thead>\n",
       "  <tbody>\n",
       "    <tr>\n",
       "      <th>0</th>\n",
       "      <td>768805383</td>\n",
       "      <td>Existing Customer</td>\n",
       "      <td>45</td>\n",
       "      <td>M</td>\n",
       "      <td>3</td>\n",
       "      <td>High School</td>\n",
       "      <td>Married</td>\n",
       "      <td>$60K - $80K</td>\n",
       "      <td>Blue</td>\n",
       "      <td>39</td>\n",
       "      <td>...</td>\n",
       "      <td>12691.0</td>\n",
       "      <td>777</td>\n",
       "      <td>11914.0</td>\n",
       "      <td>1.335</td>\n",
       "      <td>1144</td>\n",
       "      <td>42</td>\n",
       "      <td>1.625</td>\n",
       "      <td>0.061</td>\n",
       "      <td>0.000093</td>\n",
       "      <td>0.99991</td>\n",
       "    </tr>\n",
       "    <tr>\n",
       "      <th>1</th>\n",
       "      <td>818770008</td>\n",
       "      <td>Existing Customer</td>\n",
       "      <td>49</td>\n",
       "      <td>F</td>\n",
       "      <td>5</td>\n",
       "      <td>Graduate</td>\n",
       "      <td>Single</td>\n",
       "      <td>Less than $40K</td>\n",
       "      <td>Blue</td>\n",
       "      <td>44</td>\n",
       "      <td>...</td>\n",
       "      <td>8256.0</td>\n",
       "      <td>864</td>\n",
       "      <td>7392.0</td>\n",
       "      <td>1.541</td>\n",
       "      <td>1291</td>\n",
       "      <td>33</td>\n",
       "      <td>3.714</td>\n",
       "      <td>0.105</td>\n",
       "      <td>0.000057</td>\n",
       "      <td>0.99994</td>\n",
       "    </tr>\n",
       "    <tr>\n",
       "      <th>2</th>\n",
       "      <td>713982108</td>\n",
       "      <td>Existing Customer</td>\n",
       "      <td>51</td>\n",
       "      <td>M</td>\n",
       "      <td>3</td>\n",
       "      <td>Graduate</td>\n",
       "      <td>Married</td>\n",
       "      <td>$80K - $120K</td>\n",
       "      <td>Blue</td>\n",
       "      <td>36</td>\n",
       "      <td>...</td>\n",
       "      <td>3418.0</td>\n",
       "      <td>0</td>\n",
       "      <td>3418.0</td>\n",
       "      <td>2.594</td>\n",
       "      <td>1887</td>\n",
       "      <td>20</td>\n",
       "      <td>2.333</td>\n",
       "      <td>0.000</td>\n",
       "      <td>0.000021</td>\n",
       "      <td>0.99998</td>\n",
       "    </tr>\n",
       "    <tr>\n",
       "      <th>3</th>\n",
       "      <td>769911858</td>\n",
       "      <td>Existing Customer</td>\n",
       "      <td>40</td>\n",
       "      <td>F</td>\n",
       "      <td>4</td>\n",
       "      <td>High School</td>\n",
       "      <td>Unknown</td>\n",
       "      <td>Less than $40K</td>\n",
       "      <td>Blue</td>\n",
       "      <td>34</td>\n",
       "      <td>...</td>\n",
       "      <td>3313.0</td>\n",
       "      <td>2517</td>\n",
       "      <td>796.0</td>\n",
       "      <td>1.405</td>\n",
       "      <td>1171</td>\n",
       "      <td>20</td>\n",
       "      <td>2.333</td>\n",
       "      <td>0.760</td>\n",
       "      <td>0.000134</td>\n",
       "      <td>0.99987</td>\n",
       "    </tr>\n",
       "    <tr>\n",
       "      <th>4</th>\n",
       "      <td>709106358</td>\n",
       "      <td>Existing Customer</td>\n",
       "      <td>40</td>\n",
       "      <td>M</td>\n",
       "      <td>3</td>\n",
       "      <td>Uneducated</td>\n",
       "      <td>Married</td>\n",
       "      <td>$60K - $80K</td>\n",
       "      <td>Blue</td>\n",
       "      <td>21</td>\n",
       "      <td>...</td>\n",
       "      <td>4716.0</td>\n",
       "      <td>0</td>\n",
       "      <td>4716.0</td>\n",
       "      <td>2.175</td>\n",
       "      <td>816</td>\n",
       "      <td>28</td>\n",
       "      <td>2.500</td>\n",
       "      <td>0.000</td>\n",
       "      <td>0.000022</td>\n",
       "      <td>0.99998</td>\n",
       "    </tr>\n",
       "  </tbody>\n",
       "</table>\n",
       "<p>5 rows × 23 columns</p>\n",
       "</div>"
      ],
      "text/plain": [
       "   CLIENTNUM     Attrition_Flag  Customer_Age Gender  Dependent_count  \\\n",
       "0  768805383  Existing Customer            45      M                3   \n",
       "1  818770008  Existing Customer            49      F                5   \n",
       "2  713982108  Existing Customer            51      M                3   \n",
       "3  769911858  Existing Customer            40      F                4   \n",
       "4  709106358  Existing Customer            40      M                3   \n",
       "\n",
       "  Education_Level Marital_Status Income_Category Card_Category  \\\n",
       "0     High School        Married     $60K - $80K          Blue   \n",
       "1        Graduate         Single  Less than $40K          Blue   \n",
       "2        Graduate        Married    $80K - $120K          Blue   \n",
       "3     High School        Unknown  Less than $40K          Blue   \n",
       "4      Uneducated        Married     $60K - $80K          Blue   \n",
       "\n",
       "   Months_on_book  ...  Credit_Limit  Total_Revolving_Bal  Avg_Open_To_Buy  \\\n",
       "0              39  ...       12691.0                  777          11914.0   \n",
       "1              44  ...        8256.0                  864           7392.0   \n",
       "2              36  ...        3418.0                    0           3418.0   \n",
       "3              34  ...        3313.0                 2517            796.0   \n",
       "4              21  ...        4716.0                    0           4716.0   \n",
       "\n",
       "   Total_Amt_Chng_Q4_Q1  Total_Trans_Amt  Total_Trans_Ct  Total_Ct_Chng_Q4_Q1  \\\n",
       "0                 1.335             1144              42                1.625   \n",
       "1                 1.541             1291              33                3.714   \n",
       "2                 2.594             1887              20                2.333   \n",
       "3                 1.405             1171              20                2.333   \n",
       "4                 2.175              816              28                2.500   \n",
       "\n",
       "   Avg_Utilization_Ratio  \\\n",
       "0                  0.061   \n",
       "1                  0.105   \n",
       "2                  0.000   \n",
       "3                  0.760   \n",
       "4                  0.000   \n",
       "\n",
       "   Naive_Bayes_Classifier_Attrition_Flag_Card_Category_Contacts_Count_12_mon_Dependent_count_Education_Level_Months_Inactive_12_mon_1  \\\n",
       "0                                           0.000093                                                                                    \n",
       "1                                           0.000057                                                                                    \n",
       "2                                           0.000021                                                                                    \n",
       "3                                           0.000134                                                                                    \n",
       "4                                           0.000022                                                                                    \n",
       "\n",
       "   Naive_Bayes_Classifier_Attrition_Flag_Card_Category_Contacts_Count_12_mon_Dependent_count_Education_Level_Months_Inactive_12_mon_2  \n",
       "0                                            0.99991                                                                                   \n",
       "1                                            0.99994                                                                                   \n",
       "2                                            0.99998                                                                                   \n",
       "3                                            0.99987                                                                                   \n",
       "4                                            0.99998                                                                                   \n",
       "\n",
       "[5 rows x 23 columns]"
      ]
     },
     "execution_count": 3,
     "metadata": {},
     "output_type": "execute_result"
    }
   ],
   "source": [
    "Bdata.head()"
   ]
  },
  {
   "cell_type": "code",
   "execution_count": 4,
   "id": "150a400d-7dab-4118-8dfb-3f1f677ac54b",
   "metadata": {
    "tags": []
   },
   "outputs": [
    {
     "data": {
      "text/plain": [
       "Existing Customer    8500\n",
       "Attrited Customer    1627\n",
       "Name: Attrition_Flag, dtype: int64"
      ]
     },
     "execution_count": 4,
     "metadata": {},
     "output_type": "execute_result"
    }
   ],
   "source": [
    "Bdata['Attrition_Flag'].value_counts()\n"
   ]
  },
  {
   "cell_type": "code",
   "execution_count": 5,
   "id": "541cdab1-5ecf-4dc8-afc7-90d038017771",
   "metadata": {
    "tags": []
   },
   "outputs": [
    {
     "name": "stdout",
     "output_type": "stream",
     "text": [
      "Data is highly Biased\n"
     ]
    }
   ],
   "source": [
    "print(\"Data is highly Biased\")"
   ]
  },
  {
   "cell_type": "code",
   "execution_count": 6,
   "id": "8e6779fa-eba7-4392-8453-52b72e8e8975",
   "metadata": {
    "tags": []
   },
   "outputs": [],
   "source": [
    "#Feature-Enhineering Part --- Converting string data to int/float"
   ]
  },
  {
   "cell_type": "code",
   "execution_count": 7,
   "id": "6d0c1edc-f63a-456e-a6e3-30c04a5abd7f",
   "metadata": {
    "tags": []
   },
   "outputs": [],
   "source": [
    "#Data Inspection"
   ]
  },
  {
   "cell_type": "code",
   "execution_count": 8,
   "id": "e1364cb4-9e00-4188-8361-f55d0a05390d",
   "metadata": {
    "tags": []
   },
   "outputs": [
    {
     "name": "stdout",
     "output_type": "stream",
     "text": [
      "<class 'pandas.core.frame.DataFrame'>\n",
      "RangeIndex: 10127 entries, 0 to 10126\n",
      "Data columns (total 23 columns):\n",
      " #   Column                                                                                                                              Non-Null Count  Dtype  \n",
      "---  ------                                                                                                                              --------------  -----  \n",
      " 0   CLIENTNUM                                                                                                                           10127 non-null  int64  \n",
      " 1   Attrition_Flag                                                                                                                      10127 non-null  object \n",
      " 2   Customer_Age                                                                                                                        10127 non-null  int64  \n",
      " 3   Gender                                                                                                                              10127 non-null  object \n",
      " 4   Dependent_count                                                                                                                     10127 non-null  int64  \n",
      " 5   Education_Level                                                                                                                     10127 non-null  object \n",
      " 6   Marital_Status                                                                                                                      10127 non-null  object \n",
      " 7   Income_Category                                                                                                                     10127 non-null  object \n",
      " 8   Card_Category                                                                                                                       10127 non-null  object \n",
      " 9   Months_on_book                                                                                                                      10127 non-null  int64  \n",
      " 10  Total_Relationship_Count                                                                                                            10127 non-null  int64  \n",
      " 11  Months_Inactive_12_mon                                                                                                              10127 non-null  int64  \n",
      " 12  Contacts_Count_12_mon                                                                                                               10127 non-null  int64  \n",
      " 13  Credit_Limit                                                                                                                        10127 non-null  float64\n",
      " 14  Total_Revolving_Bal                                                                                                                 10127 non-null  int64  \n",
      " 15  Avg_Open_To_Buy                                                                                                                     10127 non-null  float64\n",
      " 16  Total_Amt_Chng_Q4_Q1                                                                                                                10127 non-null  float64\n",
      " 17  Total_Trans_Amt                                                                                                                     10127 non-null  int64  \n",
      " 18  Total_Trans_Ct                                                                                                                      10127 non-null  int64  \n",
      " 19  Total_Ct_Chng_Q4_Q1                                                                                                                 10127 non-null  float64\n",
      " 20  Avg_Utilization_Ratio                                                                                                               10127 non-null  float64\n",
      " 21  Naive_Bayes_Classifier_Attrition_Flag_Card_Category_Contacts_Count_12_mon_Dependent_count_Education_Level_Months_Inactive_12_mon_1  10127 non-null  float64\n",
      " 22  Naive_Bayes_Classifier_Attrition_Flag_Card_Category_Contacts_Count_12_mon_Dependent_count_Education_Level_Months_Inactive_12_mon_2  10127 non-null  float64\n",
      "dtypes: float64(7), int64(10), object(6)\n",
      "memory usage: 1.8+ MB\n"
     ]
    }
   ],
   "source": [
    "Bdata.info()"
   ]
  },
  {
   "cell_type": "code",
   "execution_count": 9,
   "id": "cbe10b36-5df1-459b-8e7c-03748a980530",
   "metadata": {
    "tags": []
   },
   "outputs": [],
   "source": [
    "#renaming column names\n",
    "Bdata.rename(columns = {'Naive_Bayes_Classifier_Attrition_Flag_Card_Category_Contacts_Count_12_mon_Dependent_count_Education_Level_Months_Inactive_12_mon_1':'N_B_C_M1'}, inplace = True)"
   ]
  },
  {
   "cell_type": "code",
   "execution_count": 10,
   "id": "8a2f9f6b-6ff8-4443-b1c9-43b6baf8fb54",
   "metadata": {
    "tags": []
   },
   "outputs": [],
   "source": [
    "#renaming column names\n",
    "Bdata.rename(columns = {'Naive_Bayes_Classifier_Attrition_Flag_Card_Category_Contacts_Count_12_mon_Dependent_count_Education_Level_Months_Inactive_12_mon_2':'N_B_C_M2'}, inplace = True)"
   ]
  },
  {
   "cell_type": "code",
   "execution_count": 11,
   "id": "c9eb1abf-44d1-4384-b9c8-c82c64c8e7aa",
   "metadata": {
    "tags": []
   },
   "outputs": [
    {
     "name": "stdout",
     "output_type": "stream",
     "text": [
      "<class 'pandas.core.frame.DataFrame'>\n",
      "RangeIndex: 10127 entries, 0 to 10126\n",
      "Data columns (total 23 columns):\n",
      " #   Column                    Non-Null Count  Dtype  \n",
      "---  ------                    --------------  -----  \n",
      " 0   CLIENTNUM                 10127 non-null  int64  \n",
      " 1   Attrition_Flag            10127 non-null  object \n",
      " 2   Customer_Age              10127 non-null  int64  \n",
      " 3   Gender                    10127 non-null  object \n",
      " 4   Dependent_count           10127 non-null  int64  \n",
      " 5   Education_Level           10127 non-null  object \n",
      " 6   Marital_Status            10127 non-null  object \n",
      " 7   Income_Category           10127 non-null  object \n",
      " 8   Card_Category             10127 non-null  object \n",
      " 9   Months_on_book            10127 non-null  int64  \n",
      " 10  Total_Relationship_Count  10127 non-null  int64  \n",
      " 11  Months_Inactive_12_mon    10127 non-null  int64  \n",
      " 12  Contacts_Count_12_mon     10127 non-null  int64  \n",
      " 13  Credit_Limit              10127 non-null  float64\n",
      " 14  Total_Revolving_Bal       10127 non-null  int64  \n",
      " 15  Avg_Open_To_Buy           10127 non-null  float64\n",
      " 16  Total_Amt_Chng_Q4_Q1      10127 non-null  float64\n",
      " 17  Total_Trans_Amt           10127 non-null  int64  \n",
      " 18  Total_Trans_Ct            10127 non-null  int64  \n",
      " 19  Total_Ct_Chng_Q4_Q1       10127 non-null  float64\n",
      " 20  Avg_Utilization_Ratio     10127 non-null  float64\n",
      " 21  N_B_C_M1                  10127 non-null  float64\n",
      " 22  N_B_C_M2                  10127 non-null  float64\n",
      "dtypes: float64(7), int64(10), object(6)\n",
      "memory usage: 1.8+ MB\n"
     ]
    }
   ],
   "source": [
    "Bdata.info()"
   ]
  },
  {
   "cell_type": "markdown",
   "id": "21e26ab8-482e-425e-bba4-f517d72854cd",
   "metadata": {
    "tags": []
   },
   "source": [
    "#New DataFrame without column \"Attrition_Flag\" & \"CLIENTNUM\""
   ]
  },
  {
   "cell_type": "code",
   "execution_count": 12,
   "id": "5de23f71-d3b5-4f2d-b5ec-a02d124c1309",
   "metadata": {},
   "outputs": [],
   "source": [
    "df = Bdata.drop(['CLIENTNUM','Attrition_Flag'], axis = 1)"
   ]
  },
  {
   "cell_type": "code",
   "execution_count": 13,
   "id": "bc8c01c6-8d82-4552-807f-64f26850c03d",
   "metadata": {},
   "outputs": [
    {
     "name": "stdout",
     "output_type": "stream",
     "text": [
      "<class 'pandas.core.frame.DataFrame'>\n",
      "RangeIndex: 10127 entries, 0 to 10126\n",
      "Data columns (total 21 columns):\n",
      " #   Column                    Non-Null Count  Dtype  \n",
      "---  ------                    --------------  -----  \n",
      " 0   Customer_Age              10127 non-null  int64  \n",
      " 1   Gender                    10127 non-null  object \n",
      " 2   Dependent_count           10127 non-null  int64  \n",
      " 3   Education_Level           10127 non-null  object \n",
      " 4   Marital_Status            10127 non-null  object \n",
      " 5   Income_Category           10127 non-null  object \n",
      " 6   Card_Category             10127 non-null  object \n",
      " 7   Months_on_book            10127 non-null  int64  \n",
      " 8   Total_Relationship_Count  10127 non-null  int64  \n",
      " 9   Months_Inactive_12_mon    10127 non-null  int64  \n",
      " 10  Contacts_Count_12_mon     10127 non-null  int64  \n",
      " 11  Credit_Limit              10127 non-null  float64\n",
      " 12  Total_Revolving_Bal       10127 non-null  int64  \n",
      " 13  Avg_Open_To_Buy           10127 non-null  float64\n",
      " 14  Total_Amt_Chng_Q4_Q1      10127 non-null  float64\n",
      " 15  Total_Trans_Amt           10127 non-null  int64  \n",
      " 16  Total_Trans_Ct            10127 non-null  int64  \n",
      " 17  Total_Ct_Chng_Q4_Q1       10127 non-null  float64\n",
      " 18  Avg_Utilization_Ratio     10127 non-null  float64\n",
      " 19  N_B_C_M1                  10127 non-null  float64\n",
      " 20  N_B_C_M2                  10127 non-null  float64\n",
      "dtypes: float64(7), int64(9), object(5)\n",
      "memory usage: 1.6+ MB\n"
     ]
    }
   ],
   "source": [
    "df.info()"
   ]
  },
  {
   "cell_type": "code",
   "execution_count": 14,
   "id": "a7cba65b-8d92-41e3-88a8-61cb66547a23",
   "metadata": {
    "tags": []
   },
   "outputs": [],
   "source": [
    "y=Bdata['Attrition_Flag']"
   ]
  },
  {
   "cell_type": "code",
   "execution_count": 15,
   "id": "607fc09b-4bcb-41d6-b819-6d299d11b4fc",
   "metadata": {
    "tags": []
   },
   "outputs": [
    {
     "data": {
      "text/plain": [
       "0    Existing Customer\n",
       "1    Existing Customer\n",
       "2    Existing Customer\n",
       "3    Existing Customer\n",
       "4    Existing Customer\n",
       "Name: Attrition_Flag, dtype: object"
      ]
     },
     "execution_count": 15,
     "metadata": {},
     "output_type": "execute_result"
    }
   ],
   "source": [
    "y.head()"
   ]
  },
  {
   "cell_type": "code",
   "execution_count": 16,
   "id": "9a1d4225-5f74-43e6-8169-13a892db613b",
   "metadata": {},
   "outputs": [
    {
     "data": {
      "text/plain": [
       "Existing Customer    8500\n",
       "Attrited Customer    1627\n",
       "Name: Attrition_Flag, dtype: int64"
      ]
     },
     "execution_count": 16,
     "metadata": {},
     "output_type": "execute_result"
    }
   ],
   "source": [
    "y.value_counts()"
   ]
  },
  {
   "cell_type": "code",
   "execution_count": 17,
   "id": "2d7a78ed-ef00-46b0-9873-35137ee18465",
   "metadata": {
    "tags": []
   },
   "outputs": [],
   "source": [
    "#Fortunately  nno null Values"
   ]
  },
  {
   "cell_type": "code",
   "execution_count": 18,
   "id": "bf6a3682-835b-47b9-af93-c851c38ef3da",
   "metadata": {
    "tags": []
   },
   "outputs": [],
   "source": [
    "#Check Cardinality and convert Dtypes of Respective Columns"
   ]
  },
  {
   "cell_type": "code",
   "execution_count": 19,
   "id": "b83c5f3d-ceef-495f-ae5b-031fd152dd08",
   "metadata": {
    "tags": []
   },
   "outputs": [],
   "source": [
    "#Attrition_Flag"
   ]
  },
  {
   "cell_type": "code",
   "execution_count": 20,
   "id": "c9ee9b8e-f451-43e4-9dcc-88385a166236",
   "metadata": {
    "tags": []
   },
   "outputs": [],
   "source": [
    "#Existing Customer    1\n",
    "#Attrited Customer    0\n",
    "y = label_encoder.fit_transform(y)"
   ]
  },
  {
   "cell_type": "code",
   "execution_count": 21,
   "id": "49c1484b-228e-48ec-b498-310ae0b6acdb",
   "metadata": {
    "tags": []
   },
   "outputs": [
    {
     "data": {
      "text/plain": [
       "1    8500\n",
       "0    1627\n",
       "dtype: int64"
      ]
     },
     "execution_count": 21,
     "metadata": {},
     "output_type": "execute_result"
    }
   ],
   "source": [
    "y1 = pd.DataFrame(y)\n",
    "y1.value_counts()"
   ]
  },
  {
   "cell_type": "code",
   "execution_count": 22,
   "id": "43d82350-cfd3-448c-8b34-a902e0e7a92d",
   "metadata": {
    "tags": []
   },
   "outputs": [],
   "source": [
    "#Gender\n",
    "#F    0\n",
    "#M    1\n",
    "df['Gender']= label_encoder.fit_transform(df['Gender'])"
   ]
  },
  {
   "cell_type": "code",
   "execution_count": 23,
   "id": "e0d34261-50e5-4770-8fcb-f2c680cc0425",
   "metadata": {
    "tags": []
   },
   "outputs": [
    {
     "data": {
      "text/plain": [
       "0    5358\n",
       "1    4769\n",
       "Name: Gender, dtype: int64"
      ]
     },
     "execution_count": 23,
     "metadata": {},
     "output_type": "execute_result"
    }
   ],
   "source": [
    "df['Gender'].value_counts()"
   ]
  },
  {
   "cell_type": "code",
   "execution_count": 24,
   "id": "208a343b-fb7d-49ad-9a0e-b98e8047637f",
   "metadata": {
    "tags": []
   },
   "outputs": [],
   "source": [
    "# 5   Education_Level           10127 non-null  object \n",
    "# 6   Marital_Status            10127 non-null  object \n",
    "# 7   Income_Category           10127 non-null  object \n",
    "# 8   Card_Category             10127 non-null  object \n",
    "\n"
   ]
  },
  {
   "cell_type": "code",
   "execution_count": 25,
   "id": "d6bf95cd-c92f-4649-997c-c6e75b75dbac",
   "metadata": {},
   "outputs": [],
   "source": [
    "#College          1013       0    1013\n",
    "#Doctorate         451       1     451\n",
    "#Graduate         3128       2    3128\n",
    "#High School      2013       3    2013\n",
    "#Post-Graduate     516       4     516\n",
    "#Uneducated       1487       5    1487\n",
    "#Unknown          1519       6    1519\n",
    "df['Education_Level']= label_encoder.fit_transform(df['Education_Level'])"
   ]
  },
  {
   "cell_type": "code",
   "execution_count": 26,
   "id": "0fa33c85-2f3d-4177-840c-1db92cb6dc4f",
   "metadata": {},
   "outputs": [],
   "source": [
    "#Married     4687    1\n",
    "#Single      3943    2\n",
    "#Unknown      749    3\n",
    "#Divorced     748    0\n",
    "df['Marital_Status']= label_encoder.fit_transform(df['Marital_Status'])"
   ]
  },
  {
   "cell_type": "code",
   "execution_count": 27,
   "id": "38f82138-4a3e-477b-9e5e-fb9880453d06",
   "metadata": {},
   "outputs": [],
   "source": [
    "#4    3561\n",
    "#1    1790\n",
    "#3    1535\n",
    "#2    1402\n",
    "#5    1112\n",
    "#0     727\n",
    "# serial in Alphabeticc Order\n",
    "df['Income_Category']= label_encoder.fit_transform(df['Income_Category'])"
   ]
  },
  {
   "cell_type": "code",
   "execution_count": 28,
   "id": "7b8ad754-4bb7-4e0c-99c1-7594efdb564d",
   "metadata": {},
   "outputs": [],
   "source": [
    "#0    9436\n",
    "#3     555\n",
    "#1     116\n",
    "#2      20\n",
    "# serial in Alphabeticc Order\n",
    "df['Card_Category']= label_encoder.fit_transform(df['Card_Category'])"
   ]
  },
  {
   "cell_type": "code",
   "execution_count": 29,
   "id": "2ba99df2-11b6-4a81-9ef0-ec28e6da0ce4",
   "metadata": {},
   "outputs": [],
   "source": [
    "# oneHot Encoding Would work \n",
    "# in easy Words - Create Dummies\n",
    "# onehot didnot work\n",
    "# instead made data bulky"
   ]
  },
  {
   "cell_type": "code",
   "execution_count": 30,
   "id": "3efbb32e-1a14-4734-9a83-f660f7a07886",
   "metadata": {},
   "outputs": [
    {
     "name": "stdout",
     "output_type": "stream",
     "text": [
      "<class 'pandas.core.frame.DataFrame'>\n",
      "RangeIndex: 10127 entries, 0 to 10126\n",
      "Data columns (total 21 columns):\n",
      " #   Column                    Non-Null Count  Dtype  \n",
      "---  ------                    --------------  -----  \n",
      " 0   Customer_Age              10127 non-null  int64  \n",
      " 1   Gender                    10127 non-null  int32  \n",
      " 2   Dependent_count           10127 non-null  int64  \n",
      " 3   Education_Level           10127 non-null  int32  \n",
      " 4   Marital_Status            10127 non-null  int32  \n",
      " 5   Income_Category           10127 non-null  int32  \n",
      " 6   Card_Category             10127 non-null  int32  \n",
      " 7   Months_on_book            10127 non-null  int64  \n",
      " 8   Total_Relationship_Count  10127 non-null  int64  \n",
      " 9   Months_Inactive_12_mon    10127 non-null  int64  \n",
      " 10  Contacts_Count_12_mon     10127 non-null  int64  \n",
      " 11  Credit_Limit              10127 non-null  float64\n",
      " 12  Total_Revolving_Bal       10127 non-null  int64  \n",
      " 13  Avg_Open_To_Buy           10127 non-null  float64\n",
      " 14  Total_Amt_Chng_Q4_Q1      10127 non-null  float64\n",
      " 15  Total_Trans_Amt           10127 non-null  int64  \n",
      " 16  Total_Trans_Ct            10127 non-null  int64  \n",
      " 17  Total_Ct_Chng_Q4_Q1       10127 non-null  float64\n",
      " 18  Avg_Utilization_Ratio     10127 non-null  float64\n",
      " 19  N_B_C_M1                  10127 non-null  float64\n",
      " 20  N_B_C_M2                  10127 non-null  float64\n",
      "dtypes: float64(7), int32(5), int64(9)\n",
      "memory usage: 1.4 MB\n"
     ]
    }
   ],
   "source": [
    "df.info()"
   ]
  },
  {
   "cell_type": "code",
   "execution_count": 31,
   "id": "522b38dc-24fc-4690-8b08-0c985b7b8c2e",
   "metadata": {},
   "outputs": [],
   "source": [
    "#Train - Test Split"
   ]
  },
  {
   "cell_type": "code",
   "execution_count": 32,
   "id": "b304ff49-c3eb-4e27-878d-9410cc2b248a",
   "metadata": {},
   "outputs": [],
   "source": [
    "X = df\n",
    "# used \"y1 dataframe\" as compiler was showing error for \"array y\"  \n",
    "#importing module\n",
    "from sklearn.model_selection import train_test_split\n",
    "\n",
    "# using the train test split function\n",
    "X_train, X_test, y_train, y_test = train_test_split(X,y1,random_state=104,test_size=0.25)"
   ]
  },
  {
   "cell_type": "code",
   "execution_count": 33,
   "id": "deedc12d-71c6-4a7e-84a2-b8730d52c0b6",
   "metadata": {},
   "outputs": [
    {
     "data": {
      "text/html": [
       "<div>\n",
       "<style scoped>\n",
       "    .dataframe tbody tr th:only-of-type {\n",
       "        vertical-align: middle;\n",
       "    }\n",
       "\n",
       "    .dataframe tbody tr th {\n",
       "        vertical-align: top;\n",
       "    }\n",
       "\n",
       "    .dataframe thead th {\n",
       "        text-align: right;\n",
       "    }\n",
       "</style>\n",
       "<table border=\"1\" class=\"dataframe\">\n",
       "  <thead>\n",
       "    <tr style=\"text-align: right;\">\n",
       "      <th></th>\n",
       "      <th>Customer_Age</th>\n",
       "      <th>Gender</th>\n",
       "      <th>Dependent_count</th>\n",
       "      <th>Education_Level</th>\n",
       "      <th>Marital_Status</th>\n",
       "      <th>Income_Category</th>\n",
       "      <th>Card_Category</th>\n",
       "      <th>Months_on_book</th>\n",
       "      <th>Total_Relationship_Count</th>\n",
       "      <th>Months_Inactive_12_mon</th>\n",
       "      <th>...</th>\n",
       "      <th>Credit_Limit</th>\n",
       "      <th>Total_Revolving_Bal</th>\n",
       "      <th>Avg_Open_To_Buy</th>\n",
       "      <th>Total_Amt_Chng_Q4_Q1</th>\n",
       "      <th>Total_Trans_Amt</th>\n",
       "      <th>Total_Trans_Ct</th>\n",
       "      <th>Total_Ct_Chng_Q4_Q1</th>\n",
       "      <th>Avg_Utilization_Ratio</th>\n",
       "      <th>N_B_C_M1</th>\n",
       "      <th>N_B_C_M2</th>\n",
       "    </tr>\n",
       "  </thead>\n",
       "  <tbody>\n",
       "    <tr>\n",
       "      <th>0</th>\n",
       "      <td>45</td>\n",
       "      <td>1</td>\n",
       "      <td>3</td>\n",
       "      <td>3</td>\n",
       "      <td>1</td>\n",
       "      <td>2</td>\n",
       "      <td>0</td>\n",
       "      <td>39</td>\n",
       "      <td>5</td>\n",
       "      <td>1</td>\n",
       "      <td>...</td>\n",
       "      <td>12691.0</td>\n",
       "      <td>777</td>\n",
       "      <td>11914.0</td>\n",
       "      <td>1.335</td>\n",
       "      <td>1144</td>\n",
       "      <td>42</td>\n",
       "      <td>1.625</td>\n",
       "      <td>0.061</td>\n",
       "      <td>0.000093</td>\n",
       "      <td>0.999910</td>\n",
       "    </tr>\n",
       "    <tr>\n",
       "      <th>1</th>\n",
       "      <td>49</td>\n",
       "      <td>0</td>\n",
       "      <td>5</td>\n",
       "      <td>2</td>\n",
       "      <td>2</td>\n",
       "      <td>4</td>\n",
       "      <td>0</td>\n",
       "      <td>44</td>\n",
       "      <td>6</td>\n",
       "      <td>1</td>\n",
       "      <td>...</td>\n",
       "      <td>8256.0</td>\n",
       "      <td>864</td>\n",
       "      <td>7392.0</td>\n",
       "      <td>1.541</td>\n",
       "      <td>1291</td>\n",
       "      <td>33</td>\n",
       "      <td>3.714</td>\n",
       "      <td>0.105</td>\n",
       "      <td>0.000057</td>\n",
       "      <td>0.999940</td>\n",
       "    </tr>\n",
       "    <tr>\n",
       "      <th>2</th>\n",
       "      <td>51</td>\n",
       "      <td>1</td>\n",
       "      <td>3</td>\n",
       "      <td>2</td>\n",
       "      <td>1</td>\n",
       "      <td>3</td>\n",
       "      <td>0</td>\n",
       "      <td>36</td>\n",
       "      <td>4</td>\n",
       "      <td>1</td>\n",
       "      <td>...</td>\n",
       "      <td>3418.0</td>\n",
       "      <td>0</td>\n",
       "      <td>3418.0</td>\n",
       "      <td>2.594</td>\n",
       "      <td>1887</td>\n",
       "      <td>20</td>\n",
       "      <td>2.333</td>\n",
       "      <td>0.000</td>\n",
       "      <td>0.000021</td>\n",
       "      <td>0.999980</td>\n",
       "    </tr>\n",
       "    <tr>\n",
       "      <th>3</th>\n",
       "      <td>40</td>\n",
       "      <td>0</td>\n",
       "      <td>4</td>\n",
       "      <td>3</td>\n",
       "      <td>3</td>\n",
       "      <td>4</td>\n",
       "      <td>0</td>\n",
       "      <td>34</td>\n",
       "      <td>3</td>\n",
       "      <td>4</td>\n",
       "      <td>...</td>\n",
       "      <td>3313.0</td>\n",
       "      <td>2517</td>\n",
       "      <td>796.0</td>\n",
       "      <td>1.405</td>\n",
       "      <td>1171</td>\n",
       "      <td>20</td>\n",
       "      <td>2.333</td>\n",
       "      <td>0.760</td>\n",
       "      <td>0.000134</td>\n",
       "      <td>0.999870</td>\n",
       "    </tr>\n",
       "    <tr>\n",
       "      <th>4</th>\n",
       "      <td>40</td>\n",
       "      <td>1</td>\n",
       "      <td>3</td>\n",
       "      <td>5</td>\n",
       "      <td>1</td>\n",
       "      <td>2</td>\n",
       "      <td>0</td>\n",
       "      <td>21</td>\n",
       "      <td>5</td>\n",
       "      <td>1</td>\n",
       "      <td>...</td>\n",
       "      <td>4716.0</td>\n",
       "      <td>0</td>\n",
       "      <td>4716.0</td>\n",
       "      <td>2.175</td>\n",
       "      <td>816</td>\n",
       "      <td>28</td>\n",
       "      <td>2.500</td>\n",
       "      <td>0.000</td>\n",
       "      <td>0.000022</td>\n",
       "      <td>0.999980</td>\n",
       "    </tr>\n",
       "    <tr>\n",
       "      <th>...</th>\n",
       "      <td>...</td>\n",
       "      <td>...</td>\n",
       "      <td>...</td>\n",
       "      <td>...</td>\n",
       "      <td>...</td>\n",
       "      <td>...</td>\n",
       "      <td>...</td>\n",
       "      <td>...</td>\n",
       "      <td>...</td>\n",
       "      <td>...</td>\n",
       "      <td>...</td>\n",
       "      <td>...</td>\n",
       "      <td>...</td>\n",
       "      <td>...</td>\n",
       "      <td>...</td>\n",
       "      <td>...</td>\n",
       "      <td>...</td>\n",
       "      <td>...</td>\n",
       "      <td>...</td>\n",
       "      <td>...</td>\n",
       "      <td>...</td>\n",
       "    </tr>\n",
       "    <tr>\n",
       "      <th>10122</th>\n",
       "      <td>50</td>\n",
       "      <td>1</td>\n",
       "      <td>2</td>\n",
       "      <td>2</td>\n",
       "      <td>2</td>\n",
       "      <td>1</td>\n",
       "      <td>0</td>\n",
       "      <td>40</td>\n",
       "      <td>3</td>\n",
       "      <td>2</td>\n",
       "      <td>...</td>\n",
       "      <td>4003.0</td>\n",
       "      <td>1851</td>\n",
       "      <td>2152.0</td>\n",
       "      <td>0.703</td>\n",
       "      <td>15476</td>\n",
       "      <td>117</td>\n",
       "      <td>0.857</td>\n",
       "      <td>0.462</td>\n",
       "      <td>0.000191</td>\n",
       "      <td>0.999810</td>\n",
       "    </tr>\n",
       "    <tr>\n",
       "      <th>10123</th>\n",
       "      <td>41</td>\n",
       "      <td>1</td>\n",
       "      <td>2</td>\n",
       "      <td>6</td>\n",
       "      <td>0</td>\n",
       "      <td>1</td>\n",
       "      <td>0</td>\n",
       "      <td>25</td>\n",
       "      <td>4</td>\n",
       "      <td>2</td>\n",
       "      <td>...</td>\n",
       "      <td>4277.0</td>\n",
       "      <td>2186</td>\n",
       "      <td>2091.0</td>\n",
       "      <td>0.804</td>\n",
       "      <td>8764</td>\n",
       "      <td>69</td>\n",
       "      <td>0.683</td>\n",
       "      <td>0.511</td>\n",
       "      <td>0.995270</td>\n",
       "      <td>0.004729</td>\n",
       "    </tr>\n",
       "    <tr>\n",
       "      <th>10124</th>\n",
       "      <td>44</td>\n",
       "      <td>0</td>\n",
       "      <td>1</td>\n",
       "      <td>3</td>\n",
       "      <td>1</td>\n",
       "      <td>4</td>\n",
       "      <td>0</td>\n",
       "      <td>36</td>\n",
       "      <td>5</td>\n",
       "      <td>3</td>\n",
       "      <td>...</td>\n",
       "      <td>5409.0</td>\n",
       "      <td>0</td>\n",
       "      <td>5409.0</td>\n",
       "      <td>0.819</td>\n",
       "      <td>10291</td>\n",
       "      <td>60</td>\n",
       "      <td>0.818</td>\n",
       "      <td>0.000</td>\n",
       "      <td>0.997880</td>\n",
       "      <td>0.002118</td>\n",
       "    </tr>\n",
       "    <tr>\n",
       "      <th>10125</th>\n",
       "      <td>30</td>\n",
       "      <td>1</td>\n",
       "      <td>2</td>\n",
       "      <td>2</td>\n",
       "      <td>3</td>\n",
       "      <td>1</td>\n",
       "      <td>0</td>\n",
       "      <td>36</td>\n",
       "      <td>4</td>\n",
       "      <td>3</td>\n",
       "      <td>...</td>\n",
       "      <td>5281.0</td>\n",
       "      <td>0</td>\n",
       "      <td>5281.0</td>\n",
       "      <td>0.535</td>\n",
       "      <td>8395</td>\n",
       "      <td>62</td>\n",
       "      <td>0.722</td>\n",
       "      <td>0.000</td>\n",
       "      <td>0.996710</td>\n",
       "      <td>0.003294</td>\n",
       "    </tr>\n",
       "    <tr>\n",
       "      <th>10126</th>\n",
       "      <td>43</td>\n",
       "      <td>0</td>\n",
       "      <td>2</td>\n",
       "      <td>2</td>\n",
       "      <td>1</td>\n",
       "      <td>4</td>\n",
       "      <td>3</td>\n",
       "      <td>25</td>\n",
       "      <td>6</td>\n",
       "      <td>2</td>\n",
       "      <td>...</td>\n",
       "      <td>10388.0</td>\n",
       "      <td>1961</td>\n",
       "      <td>8427.0</td>\n",
       "      <td>0.703</td>\n",
       "      <td>10294</td>\n",
       "      <td>61</td>\n",
       "      <td>0.649</td>\n",
       "      <td>0.189</td>\n",
       "      <td>0.996620</td>\n",
       "      <td>0.003377</td>\n",
       "    </tr>\n",
       "  </tbody>\n",
       "</table>\n",
       "<p>10127 rows × 21 columns</p>\n",
       "</div>"
      ],
      "text/plain": [
       "       Customer_Age  Gender  Dependent_count  Education_Level  Marital_Status  \\\n",
       "0                45       1                3                3               1   \n",
       "1                49       0                5                2               2   \n",
       "2                51       1                3                2               1   \n",
       "3                40       0                4                3               3   \n",
       "4                40       1                3                5               1   \n",
       "...             ...     ...              ...              ...             ...   \n",
       "10122            50       1                2                2               2   \n",
       "10123            41       1                2                6               0   \n",
       "10124            44       0                1                3               1   \n",
       "10125            30       1                2                2               3   \n",
       "10126            43       0                2                2               1   \n",
       "\n",
       "       Income_Category  Card_Category  Months_on_book  \\\n",
       "0                    2              0              39   \n",
       "1                    4              0              44   \n",
       "2                    3              0              36   \n",
       "3                    4              0              34   \n",
       "4                    2              0              21   \n",
       "...                ...            ...             ...   \n",
       "10122                1              0              40   \n",
       "10123                1              0              25   \n",
       "10124                4              0              36   \n",
       "10125                1              0              36   \n",
       "10126                4              3              25   \n",
       "\n",
       "       Total_Relationship_Count  Months_Inactive_12_mon  ...  Credit_Limit  \\\n",
       "0                             5                       1  ...       12691.0   \n",
       "1                             6                       1  ...        8256.0   \n",
       "2                             4                       1  ...        3418.0   \n",
       "3                             3                       4  ...        3313.0   \n",
       "4                             5                       1  ...        4716.0   \n",
       "...                         ...                     ...  ...           ...   \n",
       "10122                         3                       2  ...        4003.0   \n",
       "10123                         4                       2  ...        4277.0   \n",
       "10124                         5                       3  ...        5409.0   \n",
       "10125                         4                       3  ...        5281.0   \n",
       "10126                         6                       2  ...       10388.0   \n",
       "\n",
       "       Total_Revolving_Bal  Avg_Open_To_Buy  Total_Amt_Chng_Q4_Q1  \\\n",
       "0                      777          11914.0                 1.335   \n",
       "1                      864           7392.0                 1.541   \n",
       "2                        0           3418.0                 2.594   \n",
       "3                     2517            796.0                 1.405   \n",
       "4                        0           4716.0                 2.175   \n",
       "...                    ...              ...                   ...   \n",
       "10122                 1851           2152.0                 0.703   \n",
       "10123                 2186           2091.0                 0.804   \n",
       "10124                    0           5409.0                 0.819   \n",
       "10125                    0           5281.0                 0.535   \n",
       "10126                 1961           8427.0                 0.703   \n",
       "\n",
       "       Total_Trans_Amt  Total_Trans_Ct  Total_Ct_Chng_Q4_Q1  \\\n",
       "0                 1144              42                1.625   \n",
       "1                 1291              33                3.714   \n",
       "2                 1887              20                2.333   \n",
       "3                 1171              20                2.333   \n",
       "4                  816              28                2.500   \n",
       "...                ...             ...                  ...   \n",
       "10122            15476             117                0.857   \n",
       "10123             8764              69                0.683   \n",
       "10124            10291              60                0.818   \n",
       "10125             8395              62                0.722   \n",
       "10126            10294              61                0.649   \n",
       "\n",
       "       Avg_Utilization_Ratio  N_B_C_M1  N_B_C_M2  \n",
       "0                      0.061  0.000093  0.999910  \n",
       "1                      0.105  0.000057  0.999940  \n",
       "2                      0.000  0.000021  0.999980  \n",
       "3                      0.760  0.000134  0.999870  \n",
       "4                      0.000  0.000022  0.999980  \n",
       "...                      ...       ...       ...  \n",
       "10122                  0.462  0.000191  0.999810  \n",
       "10123                  0.511  0.995270  0.004729  \n",
       "10124                  0.000  0.997880  0.002118  \n",
       "10125                  0.000  0.996710  0.003294  \n",
       "10126                  0.189  0.996620  0.003377  \n",
       "\n",
       "[10127 rows x 21 columns]"
      ]
     },
     "execution_count": 33,
     "metadata": {},
     "output_type": "execute_result"
    }
   ],
   "source": [
    "X"
   ]
  },
  {
   "cell_type": "markdown",
   "id": "ad72237c-a064-4916-97f0-b0acfc25d82b",
   "metadata": {},
   "source": [
    "##Balance the data\n"
   ]
  },
  {
   "cell_type": "code",
   "execution_count": 34,
   "id": "21dea4b2-b440-4a4c-b6ee-173beb8e0805",
   "metadata": {},
   "outputs": [
    {
     "data": {
      "text/plain": [
       "1    6385\n",
       "0    1210\n",
       "dtype: int64"
      ]
     },
     "execution_count": 34,
     "metadata": {},
     "output_type": "execute_result"
    }
   ],
   "source": [
    "y_train.value_counts()"
   ]
  },
  {
   "cell_type": "code",
   "execution_count": 35,
   "id": "2014a301-5071-4485-9597-fc083f0f42be",
   "metadata": {},
   "outputs": [
    {
     "data": {
      "text/plain": [
       "1    2115\n",
       "0     417\n",
       "dtype: int64"
      ]
     },
     "execution_count": 35,
     "metadata": {},
     "output_type": "execute_result"
    }
   ],
   "source": [
    "y_test.value_counts()"
   ]
  },
  {
   "cell_type": "markdown",
   "id": "3c873310-c814-4e83-ada9-f4eaef6e42d0",
   "metadata": {},
   "source": [
    "#balance the Highly Imbalanced Data"
   ]
  },
  {
   "cell_type": "code",
   "execution_count": 36,
   "id": "b58d3036-b596-4361-8879-a9b8fcf1f609",
   "metadata": {},
   "outputs": [],
   "source": [
    "#importing Needed library\n",
    "from imblearn.over_sampling import SMOTE\n",
    "#assigning \n",
    "sm = SMOTE(random_state = 2)\n",
    "# fit_sample didnot work ----- so used fit_resample\n",
    "# ravel() was also giving error so removed that\n",
    "X_train_res, y_train_res = sm.fit_resample(X_train, y_train)\n"
   ]
  },
  {
   "cell_type": "code",
   "execution_count": 37,
   "id": "ecbb770c-469a-4a81-ae8e-e7087ea6e922",
   "metadata": {},
   "outputs": [
    {
     "data": {
      "text/plain": [
       "0    6385\n",
       "1    6385\n",
       "dtype: int64"
      ]
     },
     "execution_count": 37,
     "metadata": {},
     "output_type": "execute_result"
    }
   ],
   "source": [
    "y_train_res1 = pd.DataFrame(y_train_res)\n",
    "\n",
    "y_train_res1.value_counts()"
   ]
  },
  {
   "cell_type": "code",
   "execution_count": 38,
   "id": "60f96f90-8cf6-4074-b204-4ee11e08eb0e",
   "metadata": {},
   "outputs": [
    {
     "data": {
      "text/plain": [
       "(10127, 21)"
      ]
     },
     "execution_count": 38,
     "metadata": {},
     "output_type": "execute_result"
    }
   ],
   "source": [
    "df.shape # of original data"
   ]
  },
  {
   "cell_type": "code",
   "execution_count": 39,
   "id": "f576abdb-38a6-427a-9660-94ed40417640",
   "metadata": {},
   "outputs": [
    {
     "data": {
      "text/plain": [
       "(7595, 21)"
      ]
     },
     "execution_count": 39,
     "metadata": {},
     "output_type": "execute_result"
    }
   ],
   "source": [
    "X_train.shape # before balancing"
   ]
  },
  {
   "cell_type": "code",
   "execution_count": 40,
   "id": "651b591f-9514-45f0-9b02-391a1bbf4380",
   "metadata": {},
   "outputs": [
    {
     "data": {
      "text/plain": [
       "(12770, 21)"
      ]
     },
     "execution_count": 40,
     "metadata": {},
     "output_type": "execute_result"
    }
   ],
   "source": [
    "X_train_res.shape # after balancing"
   ]
  },
  {
   "cell_type": "code",
   "execution_count": 41,
   "id": "6751b593-8526-493a-af72-0e5ff349d381",
   "metadata": {},
   "outputs": [
    {
     "data": {
      "text/plain": [
       "(12770, 1)"
      ]
     },
     "execution_count": 41,
     "metadata": {},
     "output_type": "execute_result"
    }
   ],
   "source": [
    "y_train_res.shape  # after balancing"
   ]
  },
  {
   "cell_type": "code",
   "execution_count": 44,
   "id": "55b9ac75-c780-40df-bd2d-0ff51eaf71dc",
   "metadata": {},
   "outputs": [],
   "source": [
    "import warnings\n",
    "warnings.filterwarnings('ignore')"
   ]
  },
  {
   "cell_type": "code",
   "execution_count": 46,
   "id": "73ff2537-78b9-45ef-b1bf-91ee812ead2c",
   "metadata": {},
   "outputs": [
    {
     "name": "stdout",
     "output_type": "stream",
     "text": [
      "              precision    recall  f1-score   support\n",
      "\n",
      "           0       0.53      0.84      0.65       417\n",
      "           1       0.97      0.86      0.91      2115\n",
      "\n",
      "    accuracy                           0.85      2532\n",
      "   macro avg       0.75      0.85      0.78      2532\n",
      "weighted avg       0.89      0.85      0.87      2532\n",
      "\n"
     ]
    }
   ],
   "source": [
    "from sklearn.metrics import classification_report\n",
    "\n",
    "#Training the model\n",
    "lr1 = LogisticRegression()\n",
    "lr1.fit(X_train_res, y_train_res)    #Cst_Bhvr = lr1.fit(X_train_res, y_train_res) declare model name\n",
    "#Creating Predictions\n",
    "predictions = lr1.predict(X_test)\n",
    "  \n",
    "# print classification report\n",
    "print(classification_report(y_test, predictions))"
   ]
  },
  {
   "cell_type": "code",
   "execution_count": 47,
   "id": "884d6359-abc8-401f-922e-2d866d3f1120",
   "metadata": {},
   "outputs": [
    {
     "data": {
      "text/plain": [
       "array([1, 1, 1, ..., 1, 1, 1])"
      ]
     },
     "execution_count": 47,
     "metadata": {},
     "output_type": "execute_result"
    }
   ],
   "source": [
    "predictions"
   ]
  },
  {
   "cell_type": "code",
   "execution_count": 48,
   "id": "0328fb0b-2320-4172-8791-363dad71b29e",
   "metadata": {},
   "outputs": [],
   "source": [
    "New = pd.DataFrame(predictions)"
   ]
  },
  {
   "cell_type": "code",
   "execution_count": 49,
   "id": "eab0a3d4-932a-4e1c-979a-5f1c24925195",
   "metadata": {},
   "outputs": [
    {
     "data": {
      "text/plain": [
       "1    1874\n",
       "0     658\n",
       "dtype: int64"
      ]
     },
     "execution_count": 49,
     "metadata": {},
     "output_type": "execute_result"
    }
   ],
   "source": [
    "New.value_counts()"
   ]
  },
  {
   "cell_type": "code",
   "execution_count": 50,
   "id": "5edeea35-62ce-4b15-b6b5-86674b418bee",
   "metadata": {},
   "outputs": [
    {
     "data": {
      "text/plain": [
       "1    2115\n",
       "0     417\n",
       "dtype: int64"
      ]
     },
     "execution_count": 50,
     "metadata": {},
     "output_type": "execute_result"
    }
   ],
   "source": [
    "y_test.value_counts()"
   ]
  },
  {
   "cell_type": "code",
   "execution_count": 51,
   "id": "d9f9edc9-1efe-4054-90b2-c2a77bec9bd5",
   "metadata": {},
   "outputs": [
    {
     "data": {
      "text/plain": [
       "(10127, 21)"
      ]
     },
     "execution_count": 51,
     "metadata": {},
     "output_type": "execute_result"
    }
   ],
   "source": [
    "df.shape"
   ]
  },
  {
   "cell_type": "code",
   "execution_count": 52,
   "id": "5eb73cce-0e9f-446a-9d69-79d79e458af0",
   "metadata": {},
   "outputs": [
    {
     "data": {
      "text/plain": [
       "(10127, 1)"
      ]
     },
     "execution_count": 52,
     "metadata": {},
     "output_type": "execute_result"
    }
   ],
   "source": [
    "y1.shape"
   ]
  },
  {
   "cell_type": "code",
   "execution_count": 53,
   "id": "669ab013-8f68-4f22-8fcd-ab978a0f4927",
   "metadata": {},
   "outputs": [
    {
     "data": {
      "text/html": [
       "<div>\n",
       "<style scoped>\n",
       "    .dataframe tbody tr th:only-of-type {\n",
       "        vertical-align: middle;\n",
       "    }\n",
       "\n",
       "    .dataframe tbody tr th {\n",
       "        vertical-align: top;\n",
       "    }\n",
       "\n",
       "    .dataframe thead th {\n",
       "        text-align: right;\n",
       "    }\n",
       "</style>\n",
       "<table border=\"1\" class=\"dataframe\">\n",
       "  <thead>\n",
       "    <tr style=\"text-align: right;\">\n",
       "      <th></th>\n",
       "      <th>Customer_Age</th>\n",
       "      <th>Gender</th>\n",
       "      <th>Dependent_count</th>\n",
       "      <th>Education_Level</th>\n",
       "      <th>Marital_Status</th>\n",
       "      <th>Income_Category</th>\n",
       "      <th>Card_Category</th>\n",
       "      <th>Months_on_book</th>\n",
       "      <th>Total_Relationship_Count</th>\n",
       "      <th>Months_Inactive_12_mon</th>\n",
       "      <th>...</th>\n",
       "      <th>Credit_Limit</th>\n",
       "      <th>Total_Revolving_Bal</th>\n",
       "      <th>Avg_Open_To_Buy</th>\n",
       "      <th>Total_Amt_Chng_Q4_Q1</th>\n",
       "      <th>Total_Trans_Amt</th>\n",
       "      <th>Total_Trans_Ct</th>\n",
       "      <th>Total_Ct_Chng_Q4_Q1</th>\n",
       "      <th>Avg_Utilization_Ratio</th>\n",
       "      <th>N_B_C_M1</th>\n",
       "      <th>N_B_C_M2</th>\n",
       "    </tr>\n",
       "  </thead>\n",
       "  <tbody>\n",
       "    <tr>\n",
       "      <th>7641</th>\n",
       "      <td>46</td>\n",
       "      <td>0</td>\n",
       "      <td>2</td>\n",
       "      <td>4</td>\n",
       "      <td>1</td>\n",
       "      <td>4</td>\n",
       "      <td>0</td>\n",
       "      <td>41</td>\n",
       "      <td>3</td>\n",
       "      <td>1</td>\n",
       "      <td>...</td>\n",
       "      <td>2552.0</td>\n",
       "      <td>1879</td>\n",
       "      <td>673.0</td>\n",
       "      <td>0.888</td>\n",
       "      <td>4153</td>\n",
       "      <td>79</td>\n",
       "      <td>0.795</td>\n",
       "      <td>0.736</td>\n",
       "      <td>0.000109</td>\n",
       "      <td>0.999890</td>\n",
       "    </tr>\n",
       "    <tr>\n",
       "      <th>280</th>\n",
       "      <td>43</td>\n",
       "      <td>1</td>\n",
       "      <td>1</td>\n",
       "      <td>2</td>\n",
       "      <td>2</td>\n",
       "      <td>3</td>\n",
       "      <td>3</td>\n",
       "      <td>37</td>\n",
       "      <td>4</td>\n",
       "      <td>3</td>\n",
       "      <td>...</td>\n",
       "      <td>34516.0</td>\n",
       "      <td>1440</td>\n",
       "      <td>33076.0</td>\n",
       "      <td>1.117</td>\n",
       "      <td>1575</td>\n",
       "      <td>34</td>\n",
       "      <td>2.400</td>\n",
       "      <td>0.042</td>\n",
       "      <td>0.000153</td>\n",
       "      <td>0.999850</td>\n",
       "    </tr>\n",
       "    <tr>\n",
       "      <th>9413</th>\n",
       "      <td>29</td>\n",
       "      <td>1</td>\n",
       "      <td>1</td>\n",
       "      <td>5</td>\n",
       "      <td>2</td>\n",
       "      <td>1</td>\n",
       "      <td>0</td>\n",
       "      <td>22</td>\n",
       "      <td>2</td>\n",
       "      <td>3</td>\n",
       "      <td>...</td>\n",
       "      <td>11522.0</td>\n",
       "      <td>1203</td>\n",
       "      <td>10319.0</td>\n",
       "      <td>0.847</td>\n",
       "      <td>13720</td>\n",
       "      <td>119</td>\n",
       "      <td>0.831</td>\n",
       "      <td>0.104</td>\n",
       "      <td>0.000292</td>\n",
       "      <td>0.999710</td>\n",
       "    </tr>\n",
       "    <tr>\n",
       "      <th>6777</th>\n",
       "      <td>41</td>\n",
       "      <td>0</td>\n",
       "      <td>5</td>\n",
       "      <td>4</td>\n",
       "      <td>1</td>\n",
       "      <td>4</td>\n",
       "      <td>0</td>\n",
       "      <td>36</td>\n",
       "      <td>5</td>\n",
       "      <td>3</td>\n",
       "      <td>...</td>\n",
       "      <td>1495.0</td>\n",
       "      <td>0</td>\n",
       "      <td>1495.0</td>\n",
       "      <td>0.686</td>\n",
       "      <td>2622</td>\n",
       "      <td>70</td>\n",
       "      <td>0.628</td>\n",
       "      <td>0.000</td>\n",
       "      <td>0.997290</td>\n",
       "      <td>0.002713</td>\n",
       "    </tr>\n",
       "    <tr>\n",
       "      <th>2996</th>\n",
       "      <td>38</td>\n",
       "      <td>1</td>\n",
       "      <td>3</td>\n",
       "      <td>0</td>\n",
       "      <td>2</td>\n",
       "      <td>2</td>\n",
       "      <td>0</td>\n",
       "      <td>34</td>\n",
       "      <td>6</td>\n",
       "      <td>3</td>\n",
       "      <td>...</td>\n",
       "      <td>12050.0</td>\n",
       "      <td>1821</td>\n",
       "      <td>10229.0</td>\n",
       "      <td>0.630</td>\n",
       "      <td>2381</td>\n",
       "      <td>40</td>\n",
       "      <td>0.481</td>\n",
       "      <td>0.151</td>\n",
       "      <td>0.998080</td>\n",
       "      <td>0.001916</td>\n",
       "    </tr>\n",
       "  </tbody>\n",
       "</table>\n",
       "<p>5 rows × 21 columns</p>\n",
       "</div>"
      ],
      "text/plain": [
       "      Customer_Age  Gender  Dependent_count  Education_Level  Marital_Status  \\\n",
       "7641            46       0                2                4               1   \n",
       "280             43       1                1                2               2   \n",
       "9413            29       1                1                5               2   \n",
       "6777            41       0                5                4               1   \n",
       "2996            38       1                3                0               2   \n",
       "\n",
       "      Income_Category  Card_Category  Months_on_book  \\\n",
       "7641                4              0              41   \n",
       "280                 3              3              37   \n",
       "9413                1              0              22   \n",
       "6777                4              0              36   \n",
       "2996                2              0              34   \n",
       "\n",
       "      Total_Relationship_Count  Months_Inactive_12_mon  ...  Credit_Limit  \\\n",
       "7641                         3                       1  ...        2552.0   \n",
       "280                          4                       3  ...       34516.0   \n",
       "9413                         2                       3  ...       11522.0   \n",
       "6777                         5                       3  ...        1495.0   \n",
       "2996                         6                       3  ...       12050.0   \n",
       "\n",
       "      Total_Revolving_Bal  Avg_Open_To_Buy  Total_Amt_Chng_Q4_Q1  \\\n",
       "7641                 1879            673.0                 0.888   \n",
       "280                  1440          33076.0                 1.117   \n",
       "9413                 1203          10319.0                 0.847   \n",
       "6777                    0           1495.0                 0.686   \n",
       "2996                 1821          10229.0                 0.630   \n",
       "\n",
       "      Total_Trans_Amt  Total_Trans_Ct  Total_Ct_Chng_Q4_Q1  \\\n",
       "7641             4153              79                0.795   \n",
       "280              1575              34                2.400   \n",
       "9413            13720             119                0.831   \n",
       "6777             2622              70                0.628   \n",
       "2996             2381              40                0.481   \n",
       "\n",
       "      Avg_Utilization_Ratio  N_B_C_M1  N_B_C_M2  \n",
       "7641                  0.736  0.000109  0.999890  \n",
       "280                   0.042  0.000153  0.999850  \n",
       "9413                  0.104  0.000292  0.999710  \n",
       "6777                  0.000  0.997290  0.002713  \n",
       "2996                  0.151  0.998080  0.001916  \n",
       "\n",
       "[5 rows x 21 columns]"
      ]
     },
     "execution_count": 53,
     "metadata": {},
     "output_type": "execute_result"
    }
   ],
   "source": [
    "X_test.head()"
   ]
  },
  {
   "cell_type": "code",
   "execution_count": null,
   "id": "6f0ac36e-e2c0-41e5-a5d1-e06ad9510d56",
   "metadata": {},
   "outputs": [],
   "source": [
    "# save model to folder and make prediction with given set of values"
   ]
  },
  {
   "cell_type": "code",
   "execution_count": null,
   "id": "40181315-bcdd-4455-8843-ec18502f11d3",
   "metadata": {},
   "outputs": [],
   "source": [
    "# Export to Pycharm and Create New Version of Pycharm App"
   ]
  },
  {
   "cell_type": "code",
   "execution_count": null,
   "id": "a803d2b1-0aba-42de-8903-6350e2719a9b",
   "metadata": {},
   "outputs": [],
   "source": []
  },
  {
   "cell_type": "code",
   "execution_count": null,
   "id": "946f1ab0-db13-45c4-a218-4c441945b149",
   "metadata": {},
   "outputs": [],
   "source": []
  },
  {
   "cell_type": "code",
   "execution_count": null,
   "id": "49d9b00c-b278-42fe-bddd-cdea2f24d263",
   "metadata": {},
   "outputs": [],
   "source": []
  },
  {
   "cell_type": "code",
   "execution_count": null,
   "id": "680dd030-4db4-4222-a5b5-3a5db4b2c0c1",
   "metadata": {},
   "outputs": [],
   "source": []
  },
  {
   "cell_type": "code",
   "execution_count": null,
   "id": "dfaea408-835d-46cc-a2e3-4aa901127a5c",
   "metadata": {},
   "outputs": [],
   "source": []
  },
  {
   "cell_type": "code",
   "execution_count": null,
   "id": "699f26be-b901-4cf6-90c3-bd5dc3e973d8",
   "metadata": {},
   "outputs": [],
   "source": [
    "#Column Names\n",
    "Bdata.columns"
   ]
  },
  {
   "cell_type": "code",
   "execution_count": null,
   "id": "80924c93-0619-42c0-b4db-b82a32140618",
   "metadata": {},
   "outputs": [],
   "source": [
    "#Relevent column Extraction \n",
    "#Bdata1 = Bdata.loc[:, ['CLIENTNUM', 'Attrition_Flag', 'Customer_Age', 'Gender', 'Income_Category', 'Card_Category', 'Credit_Limit', 'Total_Trans_Amt']].copy()\n"
   ]
  },
  {
   "cell_type": "code",
   "execution_count": null,
   "id": "c063393c-3960-4378-bf78-33341e5a29cb",
   "metadata": {},
   "outputs": [],
   "source": [
    "Bdata.describe()"
   ]
  },
  {
   "cell_type": "code",
   "execution_count": null,
   "id": "676b321a-474f-406a-ba69-cd6fee4fb0a7",
   "metadata": {},
   "outputs": [],
   "source": [
    "#String - Cardinal columns\n",
    "Bdata1.info()"
   ]
  },
  {
   "cell_type": "markdown",
   "id": "686f8486-f552-49c3-bf27-05273e50cb67",
   "metadata": {},
   "source": [
    "##Value counts for Cardinal Columns"
   ]
  },
  {
   "cell_type": "code",
   "execution_count": null,
   "id": "70127ad0-ae0d-4b71-9e0d-188a855bc14b",
   "metadata": {},
   "outputs": [],
   "source": [
    "Bdata1['Attrition_Flag'].value_counts()"
   ]
  },
  {
   "cell_type": "code",
   "execution_count": null,
   "id": "e8a5ce58-999a-4c70-9740-3a53dfe155c5",
   "metadata": {},
   "outputs": [],
   "source": [
    "Bdata1['Gender'].value_counts()"
   ]
  },
  {
   "cell_type": "code",
   "execution_count": null,
   "id": "b9d75c52-002c-4067-b62c-92d721b988bf",
   "metadata": {},
   "outputs": [],
   "source": [
    "Bdata1['Income_Category'].value_counts()"
   ]
  },
  {
   "cell_type": "code",
   "execution_count": null,
   "id": "74826bc6-cf92-4271-8740-a55e86175a6f",
   "metadata": {},
   "outputs": [],
   "source": [
    "Bdata1['Card_Category'].value_counts()"
   ]
  },
  {
   "cell_type": "code",
   "execution_count": null,
   "id": "ddc206d6-8392-4e7c-b635-07bc6e0c70d6",
   "metadata": {},
   "outputs": [],
   "source": [
    "Attrition = Bdata1.loc[:, ['Attrition_Flag']]"
   ]
  },
  {
   "cell_type": "code",
   "execution_count": null,
   "id": "7c1d80e2-5e59-445e-be4c-e06a6be24c3b",
   "metadata": {},
   "outputs": [],
   "source": [
    "#One-hot Encoding - Comverting String/object columns to int \n",
    "one_hot = pd.get_dummies(Bdata1[['Gender', 'Income_Category', 'Card_Category',]]) "
   ]
  },
  {
   "cell_type": "code",
   "execution_count": null,
   "id": "b446b413-a92e-4067-ac99-c0d232f0d674",
   "metadata": {},
   "outputs": [],
   "source": [
    "#Droping string columns\n",
    "Bdata1 = Bdata1.drop(['CLIENTNUM','Attrition_Flag','Gender', 'Income_Category', 'Card_Category'], axis = 1)"
   ]
  },
  {
   "cell_type": "code",
   "execution_count": null,
   "id": "550d22b6-fa6e-4fbb-8604-aaf12bce7767",
   "metadata": {},
   "outputs": [],
   "source": [
    "#adding New columns\n",
    "Bdata1 = Bdata1.join(one_hot)"
   ]
  },
  {
   "cell_type": "code",
   "execution_count": null,
   "id": "fd9e9b4d-9045-49cd-b1a3-012f029da793",
   "metadata": {},
   "outputs": [],
   "source": [
    "#New dataFrame\n",
    "Bdata1.head()"
   ]
  },
  {
   "cell_type": "markdown",
   "id": "a9f177cf-b674-4097-9108-23c8efef3a1e",
   "metadata": {},
   "source": [
    "#Logistic Regression Model"
   ]
  },
  {
   "cell_type": "code",
   "execution_count": null,
   "id": "e658f301-bbfa-4062-b0eb-1fc2f2697270",
   "metadata": {},
   "outputs": [],
   "source": [
    "#importing library\n",
    "from sklearn.linear_model import LogisticRegression\n"
   ]
  },
  {
   "cell_type": "code",
   "execution_count": null,
   "id": "486e7071-22eb-4369-a803-c5490572d71c",
   "metadata": {},
   "outputs": [],
   "source": [
    "#define model\n",
    "Reg = LogisticRegression(random_state = 0)\n"
   ]
  },
  {
   "cell_type": "code",
   "execution_count": null,
   "id": "a58e574c-4725-4880-a08d-bcf9d6d8cc7d",
   "metadata": {},
   "outputs": [],
   "source": [
    "#Pushing data into Model\n",
    "Retention  = Reg.fit(Bdata1, Attrition)"
   ]
  },
  {
   "cell_type": "code",
   "execution_count": null,
   "id": "a1ca7709-70f1-4f55-ac4b-4fb8ac184127",
   "metadata": {},
   "outputs": [],
   "source": [
    "print(\"Coefficints: \\n\", Retention.coef_)\n",
    "print(\"intercept: \\n\", Retention.intercept_)"
   ]
  },
  {
   "cell_type": "code",
   "execution_count": null,
   "id": "08799664-0099-4cfa-af18-7827550e520d",
   "metadata": {},
   "outputs": [],
   "source": [
    "#library to imort/export model\n",
    "#import sklearn.external.joblib as extjoblib\n",
    "import joblib"
   ]
  },
  {
   "cell_type": "markdown",
   "id": "15e90023-768c-4013-ad58-95123abdefd7",
   "metadata": {},
   "source": [
    "##Export/dump model"
   ]
  },
  {
   "cell_type": "code",
   "execution_count": null,
   "id": "c36a7244-d0fd-4036-8063-1d98721a3893",
   "metadata": {},
   "outputs": [],
   "source": [
    "joblib.dump(Retention, \"Model/Retention.pkl\")"
   ]
  },
  {
   "cell_type": "code",
   "execution_count": null,
   "id": "4a786123-e7d8-4898-9ca7-912fe2c4fe44",
   "metadata": {},
   "outputs": [],
   "source": [
    "Bdata1.columns"
   ]
  },
  {
   "cell_type": "code",
   "execution_count": null,
   "id": "60d0ff9f-263b-4573-8abf-a0101384f88a",
   "metadata": {},
   "outputs": [],
   "source": [
    "#New Customer Record\n",
    "New = pd.DataFrame({'Customer_Age':[52], 'Credit_Limit':[6750], 'Total_Trans_Amt':[750], 'Gender_F':[1],\n",
    "       'Gender_M':[0], 'Income_Category_$120K +':[0], 'Income_Category_$40K - $60K':[0],\n",
    "       'Income_Category_$60K - $80K':[0], 'Income_Category_$80K - $120K':[0],\n",
    "       'Income_Category_Less than $40K':[0], 'Income_Category_Unknown':[1],\n",
    "       'Card_Category_Blue':[0], 'Card_Category_Gold':[0], 'Card_Category_Platinum':[0],\n",
    "       'Card_Category_Silver':[0] \n",
    "        })"
   ]
  },
  {
   "cell_type": "code",
   "execution_count": null,
   "id": "f1ad73ee-5d9b-4f54-96bb-d3cf1c50ac2e",
   "metadata": {},
   "outputs": [],
   "source": [
    "#display New customer Details\n",
    "New"
   ]
  },
  {
   "cell_type": "code",
   "execution_count": null,
   "id": "ba6c0418-e115-4d8b-9286-b9c91488a040",
   "metadata": {},
   "outputs": [],
   "source": [
    "Prediction = joblib.load('Model/Retention.pkl')"
   ]
  },
  {
   "cell_type": "code",
   "execution_count": null,
   "id": "5619e557-ddaf-448f-823e-e63881a12bbe",
   "metadata": {},
   "outputs": [],
   "source": [
    "#Deploying Model\n",
    "Prediction = Retention.predict(New)[0]"
   ]
  },
  {
   "cell_type": "raw",
   "id": "da43c5cb-1773-4aa6-9ebb-af5e36b176c7",
   "metadata": {},
   "source": [
    "Prediction"
   ]
  },
  {
   "cell_type": "code",
   "execution_count": null,
   "id": "236e451d-9cd4-4cda-9963-a8f48317fdb5",
   "metadata": {},
   "outputs": [],
   "source": [
    "Prediction"
   ]
  },
  {
   "cell_type": "code",
   "execution_count": null,
   "id": "e4f2c2a8-ccf6-4f02-8ca3-ba26b7515f5f",
   "metadata": {},
   "outputs": [],
   "source": []
  }
 ],
 "metadata": {
  "kernelspec": {
   "display_name": "Python 3",
   "language": "python",
   "name": "python3"
  },
  "language_info": {
   "codemirror_mode": {
    "name": "ipython",
    "version": 3
   },
   "file_extension": ".py",
   "mimetype": "text/x-python",
   "name": "python",
   "nbconvert_exporter": "python",
   "pygments_lexer": "ipython3",
   "version": "3.8.8"
  }
 },
 "nbformat": 4,
 "nbformat_minor": 5
}
